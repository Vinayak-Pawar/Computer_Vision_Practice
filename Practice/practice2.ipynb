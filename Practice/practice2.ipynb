{
 "cells": [
  {
   "cell_type": "markdown",
   "metadata": {},
   "source": [
    "# Basics of PIL and Image"
   ]
  },
  {
   "cell_type": "code",
   "execution_count": 35,
   "metadata": {},
   "outputs": [],
   "source": [
    "from PIL import Image, ImageColor, ImageEnhance "
   ]
  },
  {
   "cell_type": "code",
   "execution_count": 36,
   "metadata": {},
   "outputs": [],
   "source": [
    "# create a new image by import\n",
    "image = Image.open(\"picture.jpg\")"
   ]
  },
  {
   "cell_type": "code",
   "execution_count": 37,
   "metadata": {},
   "outputs": [],
   "source": [
    "# Alternative way to import an image\n",
    "with Image.open('picture.jpg') as image:\n",
    "    image.show()"
   ]
  },
  {
   "cell_type": "code",
   "execution_count": 38,
   "metadata": {},
   "outputs": [],
   "source": [
    "# create a new image from scratch\n",
    "image_blank=Image.new('RGBA',size=(1000,1000))\n",
    "image_blank.show()"
   ]
  },
  {
   "cell_type": "markdown",
   "metadata": {},
   "source": [
    "##### RGBA\n",
    "In here you can see we specified the A which is stands for Transparency"
   ]
  },
  {
   "cell_type": "code",
   "execution_count": 39,
   "metadata": {},
   "outputs": [],
   "source": [
    "# show th Picture\n",
    "image.show()"
   ]
  },
  {
   "cell_type": "code",
   "execution_count": 40,
   "metadata": {},
   "outputs": [],
   "source": [
    "#saving the image\n",
    "image.save('test_save.png')"
   ]
  },
  {
   "cell_type": "code",
   "execution_count": 41,
   "metadata": {},
   "outputs": [
    {
     "name": "stdout",
     "output_type": "stream",
     "text": [
      "(4000, 3000)\n"
     ]
    }
   ],
   "source": [
    "# image information\n",
    "print(image.size)"
   ]
  },
  {
   "cell_type": "code",
   "execution_count": 42,
   "metadata": {},
   "outputs": [
    {
     "name": "stdout",
     "output_type": "stream",
     "text": [
      "/Users/vinayakpawar/Desktop/Work/Computer_Vision_Practice/Practice/picture.jpg\n"
     ]
    }
   ],
   "source": [
    "print(image.filename)"
   ]
  },
  {
   "cell_type": "code",
   "execution_count": 43,
   "metadata": {},
   "outputs": [
    {
     "name": "stdout",
     "output_type": "stream",
     "text": [
      "JPEG\n"
     ]
    }
   ],
   "source": [
    "print(image.format)"
   ]
  },
  {
   "cell_type": "code",
   "execution_count": 44,
   "metadata": {},
   "outputs": [
    {
     "name": "stdout",
     "output_type": "stream",
     "text": [
      "JPEG (ISO 10918)\n"
     ]
    }
   ],
   "source": [
    "print(image.format_description)"
   ]
  },
  {
   "cell_type": "markdown",
   "metadata": {},
   "source": [
    "# Basic Manipulation\n",
    "#### Rotate, flip, crop, scale\n",
    "#### Creating a Thumbnail"
   ]
  },
  {
   "cell_type": "code",
   "execution_count": 45,
   "metadata": {},
   "outputs": [],
   "source": [
    "# Importing an Image\n",
    "image = Image.open(\"picture.jpg\")"
   ]
  },
  {
   "cell_type": "code",
   "execution_count": 46,
   "metadata": {},
   "outputs": [],
   "source": [
    "# Documentation\n",
    "# https://pillow.readthedocs.io/en/stable/?badge=latest"
   ]
  },
  {
   "cell_type": "code",
   "execution_count": 47,
   "metadata": {},
   "outputs": [],
   "source": [
    "# Rotate the image\n",
    "image_rotate = image.rotate(60,expand=True,fillcolor=ImageColor.getcolor('red','RGB'))"
   ]
  },
  {
   "cell_type": "code",
   "execution_count": 48,
   "metadata": {},
   "outputs": [
    {
     "data": {
      "text/plain": [
       "(255, 0, 0)"
      ]
     },
     "execution_count": 48,
     "metadata": {},
     "output_type": "execute_result"
    }
   ],
   "source": [
    "# If you run below code you will see it returns the tuple of the RGB values\n",
    "ImageColor.getcolor('red','RGB')"
   ]
  },
  {
   "cell_type": "code",
   "execution_count": 49,
   "metadata": {},
   "outputs": [],
   "source": [
    "image_rotate.show()"
   ]
  },
  {
   "cell_type": "code",
   "execution_count": 50,
   "metadata": {},
   "outputs": [
    {
     "name": "stdout",
     "output_type": "stream",
     "text": [
      "{'aliceblue': '#f0f8ff', 'antiquewhite': '#faebd7', 'aqua': '#00ffff', 'aquamarine': '#7fffd4', 'azure': '#f0ffff', 'beige': '#f5f5dc', 'bisque': '#ffe4c4', 'black': '#000000', 'blanchedalmond': '#ffebcd', 'blue': '#0000ff', 'blueviolet': '#8a2be2', 'brown': '#a52a2a', 'burlywood': '#deb887', 'cadetblue': '#5f9ea0', 'chartreuse': '#7fff00', 'chocolate': '#d2691e', 'coral': '#ff7f50', 'cornflowerblue': '#6495ed', 'cornsilk': '#fff8dc', 'crimson': '#dc143c', 'cyan': '#00ffff', 'darkblue': '#00008b', 'darkcyan': '#008b8b', 'darkgoldenrod': '#b8860b', 'darkgray': '#a9a9a9', 'darkgrey': '#a9a9a9', 'darkgreen': '#006400', 'darkkhaki': '#bdb76b', 'darkmagenta': '#8b008b', 'darkolivegreen': '#556b2f', 'darkorange': '#ff8c00', 'darkorchid': '#9932cc', 'darkred': '#8b0000', 'darksalmon': '#e9967a', 'darkseagreen': '#8fbc8f', 'darkslateblue': '#483d8b', 'darkslategray': '#2f4f4f', 'darkslategrey': '#2f4f4f', 'darkturquoise': '#00ced1', 'darkviolet': '#9400d3', 'deeppink': '#ff1493', 'deepskyblue': '#00bfff', 'dimgray': '#696969', 'dimgrey': '#696969', 'dodgerblue': '#1e90ff', 'firebrick': '#b22222', 'floralwhite': '#fffaf0', 'forestgreen': '#228b22', 'fuchsia': '#ff00ff', 'gainsboro': '#dcdcdc', 'ghostwhite': '#f8f8ff', 'gold': '#ffd700', 'goldenrod': '#daa520', 'gray': '#808080', 'grey': '#808080', 'green': '#008000', 'greenyellow': '#adff2f', 'honeydew': '#f0fff0', 'hotpink': '#ff69b4', 'indianred': '#cd5c5c', 'indigo': '#4b0082', 'ivory': '#fffff0', 'khaki': '#f0e68c', 'lavender': '#e6e6fa', 'lavenderblush': '#fff0f5', 'lawngreen': '#7cfc00', 'lemonchiffon': '#fffacd', 'lightblue': '#add8e6', 'lightcoral': '#f08080', 'lightcyan': '#e0ffff', 'lightgoldenrodyellow': '#fafad2', 'lightgreen': '#90ee90', 'lightgray': '#d3d3d3', 'lightgrey': '#d3d3d3', 'lightpink': '#ffb6c1', 'lightsalmon': '#ffa07a', 'lightseagreen': '#20b2aa', 'lightskyblue': '#87cefa', 'lightslategray': '#778899', 'lightslategrey': '#778899', 'lightsteelblue': '#b0c4de', 'lightyellow': '#ffffe0', 'lime': '#00ff00', 'limegreen': '#32cd32', 'linen': '#faf0e6', 'magenta': '#ff00ff', 'maroon': '#800000', 'mediumaquamarine': '#66cdaa', 'mediumblue': '#0000cd', 'mediumorchid': '#ba55d3', 'mediumpurple': '#9370db', 'mediumseagreen': '#3cb371', 'mediumslateblue': '#7b68ee', 'mediumspringgreen': '#00fa9a', 'mediumturquoise': '#48d1cc', 'mediumvioletred': '#c71585', 'midnightblue': '#191970', 'mintcream': '#f5fffa', 'mistyrose': '#ffe4e1', 'moccasin': '#ffe4b5', 'navajowhite': '#ffdead', 'navy': '#000080', 'oldlace': '#fdf5e6', 'olive': '#808000', 'olivedrab': '#6b8e23', 'orange': '#ffa500', 'orangered': '#ff4500', 'orchid': '#da70d6', 'palegoldenrod': '#eee8aa', 'palegreen': '#98fb98', 'paleturquoise': '#afeeee', 'palevioletred': '#db7093', 'papayawhip': '#ffefd5', 'peachpuff': '#ffdab9', 'peru': '#cd853f', 'pink': '#ffc0cb', 'plum': '#dda0dd', 'powderblue': '#b0e0e6', 'purple': '#800080', 'rebeccapurple': '#663399', 'red': (255, 0, 0), 'rosybrown': '#bc8f8f', 'royalblue': '#4169e1', 'saddlebrown': '#8b4513', 'salmon': '#fa8072', 'sandybrown': '#f4a460', 'seagreen': '#2e8b57', 'seashell': '#fff5ee', 'sienna': '#a0522d', 'silver': '#c0c0c0', 'skyblue': '#87ceeb', 'slateblue': '#6a5acd', 'slategray': '#708090', 'slategrey': '#708090', 'snow': '#fffafa', 'springgreen': '#00ff7f', 'steelblue': '#4682b4', 'tan': '#d2b48c', 'teal': '#008080', 'thistle': '#d8bfd8', 'tomato': '#ff6347', 'turquoise': '#40e0d0', 'violet': '#ee82ee', 'wheat': '#f5deb3', 'white': '#ffffff', 'whitesmoke': '#f5f5f5', 'yellow': '#ffff00', 'yellowgreen': '#9acd32'}\n"
     ]
    }
   ],
   "source": [
    "# Color \n",
    "print(ImageColor.colormap)"
   ]
  },
  {
   "cell_type": "code",
   "execution_count": 51,
   "metadata": {},
   "outputs": [],
   "source": [
    "# cropping the image\n",
    "#image_crop = image.crop((left_x,top_y,right_x,bottom_y))\n",
    "image_crop = image.crop((0,0,500,400))"
   ]
  },
  {
   "cell_type": "markdown",
   "metadata": {},
   "source": [
    "![Explaination](/Users/vinayakpawar/Desktop/Work/Computer_Vision_Course/Practice/Screenshot1.png)\n"
   ]
  },
  {
   "cell_type": "code",
   "execution_count": 52,
   "metadata": {},
   "outputs": [],
   "source": [
    "image_crop.show()"
   ]
  },
  {
   "cell_type": "code",
   "execution_count": 53,
   "metadata": {},
   "outputs": [],
   "source": [
    "# Flipping the Image / Transpose the image\n",
    "image_flip_horizontal = image.transpose(Image.Transpose.FLIP_LEFT_RIGHT)\n",
    "image_flip_vertical = image.transpose(Image.Transpose.FLIP_TOP_BOTTOM)\n",
    "image_transpose = image.transpose(Image.Transpose.TRANSPOSE)\n",
    "\n",
    "# Other Options: FLIP_LEFT_RIGHT, FLIP_TOP_BOTTOM, ROTATE_90, ROTATE_180, ROTATE_270, TRANSPOSE, TRANSVERSE."
   ]
  },
  {
   "cell_type": "code",
   "execution_count": 54,
   "metadata": {},
   "outputs": [],
   "source": [
    "image_flip_horizontal.show()\n",
    "image_flip_vertical.show()\n",
    "image_transpose.show()\n"
   ]
  },
  {
   "cell_type": "code",
   "execution_count": 55,
   "metadata": {},
   "outputs": [],
   "source": [
    "# Resizing the Image(Below this is the easy way to resize the image but it is not the best way to resize the image because it is prone to error and the aspect ratio of the image will not be maintained)\n",
    "image_resize=image.resize((600,1000)) # Bad Example\n",
    "\n",
    "#Better Example\n",
    "\n",
    "scale_factor = 2\n",
    "new_image_size = (image.size[0] * scale_factor, image.size[1] * scale_factor)\n",
    "image_resize_better = image.resize(new_image_size)"
   ]
  },
  {
   "cell_type": "markdown",
   "metadata": {},
   "source": [
    "## Explaination:\n",
    "\n",
    "Explanation\n",
    "scale_factor = 2:\n",
    "\n",
    "This line sets a variable named scale_factor to 2. This means you want to double the size of the image. The scale factor is a multiplier that determines how much to scale (resize) the image.\n",
    "\n",
    "\n",
    "new_image_size = (image.size[0] * scale_factor, image.size[1] * scale_factor):\n",
    "\n",
    "1. image.size: This attribute (typically found in image processing libraries like PIL in Python) returns a tuple representing the width and height of the image. For example, if image.size is (width, height), then image.size[0] is the width, and image.size[1] is the height.\n",
    "2. image.size[0] * scale_factor: This part of the code multiplies the original width of the image by the scale_factor (which is 2 in this case). If the original width was 100 pixels, the new width will be 100 * 2 = 200 pixels.\n",
    "3. image.size[1] * scale_factor: Similarly, this multiplies the original height of the image by the scale_factor. If the original height was 50 pixels, the new height will be 50 * 2 = 100 pixels.\n",
    "\n",
    "The result is a tuple (new_width, new_height) which represents the new dimensions of the image after scaling.\n",
    "\n",
    "Putting It All Together\n",
    "If we assume the original image size is 100x50 pixels, the code will work as follows:\n",
    "\n",
    "a. image.size returns (100, 50).\n",
    "b. image.size[0] is 100 and image.size[1] is 50.\n",
    "c. The new width is 100 * 2 = 200 pixels.\n",
    "d. The new height is 50 * 2 = 100 pixels.\n",
    "e. So, new_image_size will be (200, 100)."
   ]
  },
  {
   "cell_type": "code",
   "execution_count": 56,
   "metadata": {},
   "outputs": [],
   "source": [
    "#image_resize.show()\n",
    "image_resize_better.show()\n",
    "image_resize_better.save('double_resolution.png')"
   ]
  },
  {
   "cell_type": "markdown",
   "metadata": {},
   "source": [
    "#  Filters and Enhancements\n",
    "Pillow can change vibrance, contrast, brightness and sharpness using ImageEnhance\n",
    "\n",
    "And it can do blur, contour, emboss, sharpening etc using filters (there are a lot of those)\n",
    "\n",
    "https://pillow.readthedocs.io/en/stable/reference/ImageEnhance.html"
   ]
  },
  {
   "cell_type": "code",
   "execution_count": 57,
   "metadata": {},
   "outputs": [],
   "source": [
    "from PIL import ImageEnhance"
   ]
  },
  {
   "cell_type": "code",
   "execution_count": 58,
   "metadata": {},
   "outputs": [],
   "source": [
    "image = Image.open(\"picture.jpg\")"
   ]
  },
  {
   "cell_type": "code",
   "execution_count": 59,
   "metadata": {},
   "outputs": [],
   "source": [
    "color_enhancer = ImageEnhance.Color(image) # Takes care of the Vibrance of image\n",
    "contrast_enhancer = ImageEnhance.Contrast(image) # Takes care of the contrast of image\n",
    "brightness_enhancer = ImageEnhance.Brightness(image) # Takes care of the brightness of image\n",
    "sharpness_enhancer = ImageEnhance.Sharpness(image) # Takes care of the sharpness of image"
   ]
  },
  {
   "cell_type": "code",
   "execution_count": 60,
   "metadata": {},
   "outputs": [],
   "source": [
    "contrasted_Image = contrast_enhancer.enhance(2).show()\n",
    "Brightened_Image = brightness_enhancer.enhance(2).show()\n",
    "Sharpened_Image= sharpness_enhancer.enhance(2).show()"
   ]
  },
  {
   "cell_type": "markdown",
   "metadata": {},
   "source": [
    "#### Filter Image"
   ]
  },
  {
   "cell_type": "code",
   "execution_count": 61,
   "metadata": {},
   "outputs": [],
   "source": [
    "from PIL import ImageFilter"
   ]
  },
  {
   "cell_type": "code",
   "execution_count": 62,
   "metadata": {},
   "outputs": [],
   "source": [
    "image = Image.open(\"picture.jpg\")"
   ]
  },
  {
   "cell_type": "code",
   "execution_count": 63,
   "metadata": {},
   "outputs": [],
   "source": [
    "image_blur = image.filter(ImageFilter.BLUR)\n",
    "image_contour = image.filter(ImageFilter.CONTOUR)\n",
    "image_detail = image.filter(ImageFilter.DETAIL)\n",
    "image_edge = image.filter(ImageFilter.EDGE_ENHANCE)\n",
    "image_edge_more = image.filter(ImageFilter.EDGE_ENHANCE_MORE)\n",
    "image_find_edges = image.filter(ImageFilter.FIND_EDGES)\n",
    "image_emboss = image.filter(ImageFilter.EMBOSS)\n",
    "image_sharp = image.filter(ImageFilter.SHARPEN)\n",
    "image_smooth = image.filter(ImageFilter.SMOOTH)\n",
    "image_smooth_more = image.filter(ImageFilter.SMOOTH_MORE)\n",
    "\n",
    "\n"
   ]
  },
  {
   "cell_type": "code",
   "execution_count": 64,
   "metadata": {},
   "outputs": [],
   "source": [
    "image_blur.show()\n",
    "image_contour.show()\n",
    "image_detail.show()\n",
    "image_edge.show()\n",
    "image_edge_more.show()\n",
    "image_find_edges.show()\n",
    "image_emboss.show()\n",
    "image_sharp.show()\n",
    "image_smooth.show()\n",
    "image_smooth_more.show()\n"
   ]
  },
  {
   "cell_type": "code",
   "execution_count": 65,
   "metadata": {},
   "outputs": [],
   "source": [
    "# Rank Filters\n",
    "# Min Filter: This filter replaces each pixel with the minimum value from its neighborhood.\n",
    "# It is useful for enhancing dark regions and reducing pepper noise.\n",
    "image_filtered_min = image.filter(ImageFilter.MinFilter(size = 5)).show()\n",
    "\n",
    "# This filter replaces each pixel with the median value from its neighborhood.\n",
    "# It is commonly used to reduce noise while preserving edges.\n",
    "image_filtered_median = image.filter(ImageFilter.MedianFilter(size = 5)).show()\n",
    "\n",
    "# This filter replaces each pixel with the maximum value from its neighborhood.\n",
    "# It is useful for enhancing bright regions and reducing salt noise.\n",
    "image_filtered_max = image.filter(ImageFilter.MaxFilter(size = 5)).show()"
   ]
  },
  {
   "cell_type": "code",
   "execution_count": 66,
   "metadata": {},
   "outputs": [],
   "source": [
    "# MultiBand Filters\n",
    "# Multiband filters in image processing refer to operations applied to images that have multiple color channels or bands, such as RGB images which consist of red, green, and blue channels. These filters process each band independently or simultaneously, depending on the desired outcome. Multiband filters are essential in tasks like color correction, enhancement, and manipulation, where it's necessary to consider the different color components of the image.\n",
    "\n",
    "# Key Concepts of Multiband Filters\n",
    "# Multiple Bands: Images often contain multiple bands (or channels), each representing a different component of the image. For example, an RGB image has three bands: Red, Green, and Blue.\n",
    "# Independent Processing: Filters can be applied independently to each band. For instance, an edge detection filter might be applied separately to the red, green, and blue channels.\n",
    "# Combined Processing: Some filters might process the bands together to achieve effects that depend on the interaction between different color components, such as adjusting brightness and contrast."
   ]
  },
  {
   "cell_type": "code",
   "execution_count": 67,
   "metadata": {},
   "outputs": [],
   "source": [
    "# MultiBand Filters in Pillow\n",
    "image_box_blur = image.filter(ImageFilter.BoxBlur(radius = 5)).show()\n",
    "image_gaussblur = image.filter(ImageFilter.GaussianBlur(radius = 5)).show()\n",
    "image_unsharp = image.filter(ImageFilter.UnsharpMask(radius = 5)).show()"
   ]
  },
  {
   "cell_type": "code",
   "execution_count": 68,
   "metadata": {},
   "outputs": [],
   "source": [
    "# Combine filters\n",
    "# Even after we applied filters on an image, it is still an image object. We can apply multiple filters to an image by chaining them together. This is done by calling the filter() method multiple times on the same image object. The filters are applied in the order they are called.\n",
    "# Combine filters: blur + emboss\n",
    "image_emboss = image.filter(ImageFilter.EMBOSS)\n",
    "image_emboss_blur = image_emboss.filter(ImageFilter.GaussianBlur(radius=2))\n",
    "image_emboss_blur.show()"
   ]
  },
  {
   "cell_type": "markdown",
   "metadata": {},
   "source": [
    "# Colors in Pillow image"
   ]
  },
  {
   "cell_type": "code",
   "execution_count": null,
   "metadata": {},
   "outputs": [],
   "source": []
  }
 ],
 "metadata": {
  "kernelspec": {
   "display_name": "ai",
   "language": "python",
   "name": "python3"
  },
  "language_info": {
   "codemirror_mode": {
    "name": "ipython",
    "version": 3
   },
   "file_extension": ".py",
   "mimetype": "text/x-python",
   "name": "python",
   "nbconvert_exporter": "python",
   "pygments_lexer": "ipython3",
   "version": "3.12.3"
  }
 },
 "nbformat": 4,
 "nbformat_minor": 2
}
